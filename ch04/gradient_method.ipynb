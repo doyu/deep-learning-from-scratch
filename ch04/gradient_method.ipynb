{
 "cells": [
  {
   "cell_type": "code",
   "execution_count": 96,
   "id": "d6d885d3-93b5-43fe-902f-888733c8b570",
   "metadata": {},
   "outputs": [],
   "source": [
    "# coding: utf-8\n",
    "import numpy as np\n",
    "import matplotlib.pylab as plt\n",
    "#from gradient_2d import numerical_gradient"
   ]
  },
  {
   "cell_type": "code",
   "execution_count": 99,
   "id": "da4a0649-6d6e-4542-ba30-e13068f13b32",
   "metadata": {},
   "outputs": [],
   "source": [
    "def _numerical_gradient_no_batch(f, x):\n",
    "    h = 1e-4\n",
    "    x = np.array(x)\n",
    "    assert(x.ndim==1)\n",
    "    l = [(f(x[i]+h) - f(x[i]-h)) / (2*h) for i in range(len(x))]\n",
    "    return np.array(l)\n",
    "\n",
    "# Test\n",
    "#ret = _numerical_gradient_no_batch(lambda x:(x**2).sum(), [3.0, 4.0])\n",
    "#assert(np.allclose(ret, [6,8]))\n",
    "\n",
    "\n",
    "def numerical_gradient(f, Xs):\n",
    "    l = [_numerical_gradient_no_batch(f, xc) for xc in Xs]\n",
    "    return np.array(l)\n",
    "\n",
    "#Test\n",
    "#ret = numerical_gradient(lambda x: (x**2).sum(), [[0,0],[1,2],[3,4]])\n",
    "#assert(np.allclose(ret, [[0,0],[2,4],[6,8]]))"
   ]
  },
  {
   "cell_type": "code",
   "execution_count": 102,
   "id": "ca99b192-e7ea-4bab-a6ff-186d68115350",
   "metadata": {},
   "outputs": [
    {
     "data": {
      "image/png": "[encoded data removed]",
      "text/plain": [
       "<Figure size 432x288 with 1 Axes>"
      ]
     },
     "metadata": {
      "needs_background": "light"
     },
     "output_type": "display_data"
    }
   ],
   "source": [
    "Xs = [[-3., 4.]]\n",
    "lr = 0.1\n",
    "f = lambda x: (x**2).sum()\n",
    "nstep = 100\n",
    "\n",
    "def gradient_descent(f, Xs, lr=0.01, nstep=100):\n",
    "    history = []\n",
    "    for i in range(nstep):\n",
    "        history.append(list(*Xs))\n",
    "        grad = numerical_gradient(f, Xs)\n",
    "        Xs -= lr * grad\n",
    "\n",
    "    history = np.array(history)\n",
    "    return history\n",
    "\n",
    "history = gradient_descent(f, Xs, lr, nstep)\n",
    "    \n",
    "plt.plot( [-5, 5], [0,0], '--b')\n",
    "plt.plot( [0,0], [-5, 5], '--b')\n",
    "plt.plot(history[:,0], history[:,1], 'o')\n",
    "\n",
    "plt.xlim(-3.5, 3.5)\n",
    "plt.ylim(-4.5, 4.5)\n",
    "plt.xlabel(\"X0\")\n",
    "plt.ylabel(\"X1\")\n",
    "plt.show()"
   ]
  }
 ],
 "metadata": {
  "kernelspec": {
   "display_name": "Python 3 (ipykernel)",
   "language": "python",
   "name": "python3"
  },
  "language_info": {
   "codemirror_mode": {
    "name": "ipython",
    "version": 3
   },
   "file_extension": ".py",
   "mimetype": "text/x-python",
   "name": "python",
   "nbconvert_exporter": "python",
   "pygments_lexer": "ipython3",
   "version": "3.9.5"
  }
 },
 "nbformat": 4,
 "nbformat_minor": 5
}
