{
 "cells": [
  {
   "cell_type": "code",
   "execution_count": 2,
   "id": "cdb04b6f-a3a0-4b32-8430-4944fe53e55d",
   "metadata": {},
   "outputs": [],
   "source": [
    "import numpy as np"
   ]
  },
  {
   "cell_type": "markdown",
   "id": "ec3065bf-61d2-4c56-ada7-a7ccc7e70ee4",
   "metadata": {},
   "source": [
    "# Squared error"
   ]
  },
  {
   "cell_type": "code",
   "execution_count": 200,
   "id": "d67990f8-af23-46d4-b71c-4ac4ba450d30",
   "metadata": {},
   "outputs": [
    {
     "data": {
      "text/plain": [
       "(array([0.6, 0.5, 0.5, 0. , 0.1, 0.7, 0.6, 0.6, 0. , 0. ]),\n",
       " array([0., 0., 1., 0., 0., 0., 0., 0., 0., 0.]))"
      ]
     },
     "execution_count": 200,
     "metadata": {},
     "output_type": "execute_result"
    }
   ],
   "source": [
    "y = np.random.randint(9, size=10) / 10\n",
    "t = np.zeros(10)\n",
    "t[2] = 1\n",
    "y, t"
   ]
  },
  {
   "cell_type": "code",
   "execution_count": 201,
   "id": "b2998427-d539-4c22-8972-f694aa54e29e",
   "metadata": {},
   "outputs": [
    {
     "name": "stdout",
     "output_type": "stream",
     "text": [
      "1.04\n"
     ]
    },
    {
     "data": {
      "text/plain": [
       "0.9150499999999999"
      ]
     },
     "execution_count": 201,
     "metadata": {},
     "output_type": "execute_result"
    }
   ],
   "source": [
    "def sum_squared_error(y, t):\n",
    "    return 0.5 * np.sum((y-t)**2)\n",
    "\n",
    "print(sum_squared_error(y, t))\n",
    "yy = y.copy()\n",
    "yy[2] = 0.99\n",
    "sum_squared_error(yy, t)"
   ]
  },
  {
   "cell_type": "markdown",
   "id": "3e94bceb-8f04-4e1a-8e56-42bdb0085a61",
   "metadata": {},
   "source": [
    "# Cross entropy error"
   ]
  },
  {
   "cell_type": "code",
   "execution_count": 181,
   "id": "70987fa5-2e60-4824-853b-5f1aea84493e",
   "metadata": {},
   "outputs": [],
   "source": [
    "import matplotlib.pyplot as plt\n",
    "%matplotlib inline"
   ]
  },
  {
   "cell_type": "code",
   "execution_count": 195,
   "id": "7a072a5b-2ad0-4466-9c94-6c8c607b78c9",
   "metadata": {},
   "outputs": [
    {
     "data": {
      "image/png": "[encoded data removed]",
      "text/plain": [
       "<Figure size 432x288 with 1 Axes>"
      ]
     },
     "metadata": {
      "needs_background": "light"
     },
     "output_type": "display_data"
    }
   ],
   "source": [
    "x = np.arange(0.01, 2, 0.01)\n",
    "y = -np.log(x)\n",
    "plt.plot(x, y)\n",
    "plt.grid()"
   ]
  },
  {
   "cell_type": "code",
   "execution_count": 204,
   "id": "416e1a5b-94e7-4cef-ad21-659c8198996e",
   "metadata": {},
   "outputs": [
    {
     "data": {
      "text/plain": [
       "(0.6931469805599654, 0.010050234843405595)"
      ]
     },
     "execution_count": 204,
     "metadata": {},
     "output_type": "execute_result"
    }
   ],
   "source": [
    "def cross_entropy_error(y, t):\n",
    "    delta = 1e-7\n",
    "    return -np.sum(t * np.log(y + delta))\n",
    "\n",
    "cross_entropy_error(y, t), cross_entropy_error(yy, t)"
   ]
  },
  {
   "cell_type": "code",
   "execution_count": 212,
   "id": "2d14b6b8-000c-47a5-a11d-9f3a0a01bc87",
   "metadata": {},
   "outputs": [
    {
     "data": {
      "text/plain": [
       "array([[0., 0., 1., 0., 0., 0., 0., 0., 0., 0.],\n",
       "       [0., 0., 1., 0., 0., 0., 0., 0., 0., 0.]])"
      ]
     },
     "execution_count": 212,
     "metadata": {},
     "output_type": "execute_result"
    }
   ],
   "source": [
    "np.vstack((t, t))"
   ]
  }
 ],
 "metadata": {
  "kernelspec": {
   "display_name": "Python 3 (ipykernel)",
   "language": "python",
   "name": "python3"
  },
  "language_info": {
   "codemirror_mode": {
    "name": "ipython",
    "version": 3
   },
   "file_extension": ".py",
   "mimetype": "text/x-python",
   "name": "python",
   "nbconvert_exporter": "python",
   "pygments_lexer": "ipython3",
   "version": "3.8.8"
  }
 },
 "nbformat": 4,
 "nbformat_minor": 5
}
