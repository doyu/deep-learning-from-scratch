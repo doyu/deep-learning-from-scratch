{
 "cells": [
  {
   "cell_type": "code",
   "execution_count": 1,
   "id": "12f72c5a",
   "metadata": {},
   "outputs": [],
   "source": [
    "import sys, os\n",
    "sys.path.append(os.pardir)  # 親ディレクトリのファイルをインポートするための設定\n",
    "import numpy as np\n",
    "import matplotlib.pyplot as plt\n",
    "from dataset.mnist import load_mnist\n",
    "#from two_layer_net import TwoLayerNet\n",
    "\n",
    "# データの読み込み\n",
    "(x_train, t_train), (x_test, t_test) = load_mnist(normalize=True, one_hot_label=True)"
   ]
  },
  {
   "cell_type": "code",
   "execution_count": 4,
   "id": "65526340",
   "metadata": {},
   "outputs": [
    {
     "name": "stdout",
     "output_type": "stream",
     "text": [
      "epoch=10000 loss=0.15877341959204122\n",
      "epoch=10000 accu=0.94\n"
     ]
    },
    {
     "data": {
      "image/png": "[encoded data removed]",
      "text/plain": [
       "<Figure size 432x288 with 1 Axes>"
      ]
     },
     "metadata": {
      "needs_background": "light"
     },
     "output_type": "display_data"
    },
    {
     "name": "stdout",
     "output_type": "stream",
     "text": [
      "CPU times: user 1min 4s, sys: 26 s, total: 1min 30s\n",
      "Wall time: 24.5 s\n"
     ]
    }
   ],
   "source": [
    "%%time\n",
    "from common.functions import softmax, sigmoid, cross_entropy_error\n",
    "#network = TwoLayerNet(input_size=784, hidden_size=50, output_size=10)\n",
    "\n",
    "# NN structure\n",
    "hidden = 50\n",
    "W1 = 0.01 * np.random.randn(len(x_train[0]), hidden)\n",
    "b1 = np.zeros(hidden)\n",
    "W2 = 0.01 * np.random.randn(hidden, len(t_train[0]))\n",
    "b2 = np.zeros(len(t_train[0]))\n",
    "\n",
    "iters_num = 10000  # 繰り返しの回数を適宜設定すaる\n",
    "train_size = x_train.shape[0]\n",
    "batch_size = 100\n",
    "lr = 0.1\n",
    "\n",
    "train_loss_list = []\n",
    "train_acc_list = []\n",
    "test_acc_list = []\n",
    "\n",
    "iter_per_epoch = max(train_size / batch_size, 1)\n",
    "\n",
    "# Train NN\n",
    "loss_list, accu_list = [], []\n",
    "for i in range(iters_num):\n",
    "    batch_mask = np.random.choice(train_size, batch_size)\n",
    "    xx = x_train[batch_mask]\n",
    "    tt = t_train[batch_mask]\n",
    "    \n",
    "    # Forward propagation\n",
    "    a1 = np.dot(xx, W1) + b1\n",
    "    z1 = sigmoid(a1)\n",
    "    a2 = np.dot(z1, W2) + b2\n",
    "    yy = softmax(a2)\n",
    "    l = cross_entropy_error(yy, tt)\n",
    "    loss_list.append(l)\n",
    "    a = (tt.argmax(axis=1)==yy.argmax(axis=1)).sum() / len(tt)\n",
    "    accu_list.append(a)\n",
    "\n",
    "    # Back propagation\n",
    "    dout = (yy - tt) / len(tt)    # SoftmaxWithSigma\n",
    "\n",
    "    dx = np.dot(dout, W2.T)       # Affine 2\n",
    "    dW2 = np.dot(z1.T, dout)\n",
    "    db2 = np.sum(dout, axis=0)\n",
    "    dout = dx\n",
    "\n",
    "    dout = dout * (1.0 - z1) * z1 # Sigmoid\n",
    "\n",
    "    dx = np.dot(dout, W1.T)       # Affine 1\n",
    "    dW1 = np.dot(xx.T, dout)\n",
    "    db1 = np.sum(dout, axis=0)\n",
    "\n",
    "    # Update params\n",
    "    W1 -= lr * dW1\n",
    "    b1 -= lr * db1\n",
    "    W2 -= lr * dW2\n",
    "    b2 -= lr * db2        \n",
    "    \n",
    "#Plot accuracy over time    \n",
    "print(f\"epoch={len(loss_list)} loss={loss_list[-1]}\")\n",
    "print(f\"epoch={len(loss_list)} accu={accu_list[-1]}\")\n",
    "plt.plot(range(len(loss_list)), loss_list)\n",
    "plt.plot(range(len(accu_list)), accu_list)\n",
    "plt.show()"
   ]
  }
 ],
 "metadata": {
  "kernelspec": {
   "display_name": "Python 3 (ipykernel)",
   "language": "python",
   "name": "python3"
  },
  "language_info": {
   "codemirror_mode": {
    "name": "ipython",
    "version": 3
   },
   "file_extension": ".py",
   "mimetype": "text/x-python",
   "name": "python",
   "nbconvert_exporter": "python",
   "pygments_lexer": "ipython3",
   "version": "3.9.5"
  }
 },
 "nbformat": 4,
 "nbformat_minor": 5
}
