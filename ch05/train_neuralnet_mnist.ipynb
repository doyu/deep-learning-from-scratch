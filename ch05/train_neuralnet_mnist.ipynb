{
 "cells": [
  {
   "cell_type": "code",
   "execution_count": 1,
   "id": "12f72c5a",
   "metadata": {},
   "outputs": [],
   "source": [
    "import sys, os\n",
    "sys.path.append(os.pardir)  # 親ディレクトリのファイルをインポートするための設定\n",
    "import numpy as np\n",
    "import matplotlib.pyplot as plt\n",
    "from dataset.mnist import load_mnist\n",
    "\n",
    "(x_train, t_train), (x_test, t_test) = load_mnist(normalize=True, one_hot_label=True)"
   ]
  },
  {
   "cell_type": "code",
   "execution_count": 3,
   "id": "65526340",
   "metadata": {},
   "outputs": [
    {
     "name": "stdout",
     "output_type": "stream",
     "text": [
      "epoch=10000 loss=0.13052363464261982\n",
      "epoch=10000 accu=0.97\n"
     ]
    },
    {
     "data": {
      "image/png": "[encoded data removed]",
      "text/plain": [
       "<Figure size 432x288 with 1 Axes>"
      ]
     },
     "metadata": {
      "needs_background": "light"
     },
     "output_type": "display_data"
    },
    {
     "name": "stdout",
     "output_type": "stream",
     "text": [
      "CPU times: user 1min 16s, sys: 33.6 s, total: 1min 49s\n",
      "Wall time: 32.3 s\n"
     ]
    }
   ],
   "source": [
    "%%time\n",
    "from common.functions import softmax, sigmoid, cross_entropy_error\n",
    "#network = TwoLayerNet(input_size=784, hidden_size=50, output_size=10)\n",
    "\n",
    "class NN():\n",
    "    def __init__(self, input_size, hidden_size, output_size):\n",
    "        W1 = 0.01 * np.random.randn(input_size, hidden_size)\n",
    "        b1 = np.zeros(hidden_size)\n",
    "        W2 = 0.01 * np.random.randn(hidden_size, output_size)\n",
    "        b2 = np.zeros(output_size)\n",
    "        self.W1, self.b1, self.W2, self.b2 = W1, b1, W2, b2\n",
    "\n",
    "    def predict(self, x):\n",
    "        W1, b1, W2, b2 = self.W1, self.b1, self.W2, self.b2\n",
    "        a1 = np.dot(x, W1) + b1\n",
    "        z1 = sigmoid(a1)\n",
    "        a2 = np.dot(z1, W2) + b2\n",
    "        self.x, self.a1, self.z1, self.a2 = x, a1, z1, a2\n",
    "        return a2\n",
    "        \n",
    "    def forward(self, x, t):\n",
    "        a2 = self.predict(x)\n",
    "        y = softmax(a2)\n",
    "        loss = cross_entropy_error(y, t)\n",
    "        accuracy = (t.argmax(axis=1)==y.argmax(axis=1)).sum() / len(t)\n",
    "        self.y, self.t = y, t\n",
    "        return loss, accuracy\n",
    "    \n",
    "    def backward(self):\n",
    "        W1, b1, W2, b2 = self.W1, self.b1, self.W2, self.b2\n",
    "        x, a1, z1, a2 = self.x, self.a1, self.z1, self.a2\n",
    "        y, t = self.y, self.t\n",
    "        \n",
    "        # SoftmaxWithSigma\n",
    "        dout = (y - t) / len(t)\n",
    "\n",
    "        # Affine 2\n",
    "        dx = np.dot(dout, W2.T)\n",
    "        dW2 = np.dot(z1.T, dout)\n",
    "        db2 = np.sum(dout, axis=0)\n",
    "        dout = dx\n",
    "\n",
    "        # Sigmoid\n",
    "        dout = dout * (1.0 - z1) * z1 \n",
    "\n",
    "        # Affine 1\n",
    "        dx = np.dot(dout, W1.T)\n",
    "        dW1 = np.dot(x.T, dout)\n",
    "        db1 = np.sum(dout, axis=0)\n",
    "        \n",
    "        self.dW1, self.db1, self.dW2, self.db2 = dW1, db1, dW2, db2        \n",
    "    \n",
    "    def update(self, lr):\n",
    "        self.W1 -= lr * self.dW1\n",
    "        self.b1 -= lr * self.db1\n",
    "        self.W2 -= lr * self.dW2\n",
    "        self.b2 -= lr * self.db2\n",
    "        \n",
    "    \n",
    "    \n",
    "nn = NN(len(x_train[0]), hidden_size=50, output_size=len(t_train[0]))\n",
    "\n",
    "iters_num = 10000  # 繰り返しの回数を適宜設定すaる\n",
    "train_size = x_train.shape[0]\n",
    "batch_size = 100\n",
    "lr = 0.1\n",
    "\n",
    "train_loss_list = []\n",
    "train_acc_list = []\n",
    "test_acc_list = []\n",
    "\n",
    "iter_per_epoch = max(train_size / batch_size, 1)\n",
    "\n",
    "# Train NN\n",
    "loss_list, accu_list = [], []\n",
    "for i in range(iters_num):\n",
    "    batch_mask = np.random.choice(train_size, batch_size)\n",
    "    xx = x_train[batch_mask]\n",
    "    tt = t_train[batch_mask]\n",
    "    \n",
    "    l, a = nn.forward(xx, tt)\n",
    "    loss_list.append(l)\n",
    "    accu_list.append(a)\n",
    "\n",
    "    nn.backward()\n",
    "    nn.update(lr)\n",
    "    \n",
    "#Plot accuracy over time    \n",
    "print(f\"epoch={len(loss_list)} loss={loss_list[-1]}\")\n",
    "print(f\"epoch={len(loss_list)} accu={accu_list[-1]}\")\n",
    "plt.plot(range(len(loss_list)), loss_list)\n",
    "plt.plot(range(len(accu_list)), accu_list)\n",
    "plt.show()"
   ]
  }
 ],
 "metadata": {
  "kernelspec": {
   "display_name": "Python 3 (ipykernel)",
   "language": "python",
   "name": "python3"
  },
  "language_info": {
   "codemirror_mode": {
    "name": "ipython",
    "version": 3
   },
   "file_extension": ".py",
   "mimetype": "text/x-python",
   "name": "python",
   "nbconvert_exporter": "python",
   "pygments_lexer": "ipython3",
   "version": "3.9.5"
  }
 },
 "nbformat": 4,
 "nbformat_minor": 5
}
