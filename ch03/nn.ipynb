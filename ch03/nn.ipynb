{
 "cells": [
  {
   "cell_type": "code",
   "execution_count": 2,
   "id": "4518c2f7-8b9e-4731-8090-e1e4073d1ddf",
   "metadata": {},
   "outputs": [],
   "source": [
    "import numpy as np"
   ]
  },
  {
   "cell_type": "markdown",
   "id": "4d25605e-888e-4553-9f73-ce67fe79ceec",
   "metadata": {},
   "source": [
    "# NN with input and output lyaer\n",
    "![](./nn1.png)"
   ]
  },
  {
   "cell_type": "code",
   "execution_count": 3,
   "id": "c85f064e-dcc7-4aab-ac00-01d44b2d33d0",
   "metadata": {},
   "outputs": [
    {
     "data": {
      "text/plain": [
       "(2,)"
      ]
     },
     "execution_count": 3,
     "metadata": {},
     "output_type": "execute_result"
    }
   ],
   "source": [
    "X = np.array([1, 2])\n",
    "X.shape"
   ]
  },
  {
   "cell_type": "code",
   "execution_count": 9,
   "id": "ca5e78df-ff56-4c68-91a4-0f4fbb4dbbda",
   "metadata": {},
   "outputs": [
    {
     "data": {
      "text/plain": [
       "(2, 3)"
      ]
     },
     "execution_count": 9,
     "metadata": {},
     "output_type": "execute_result"
    }
   ],
   "source": [
    "W = np.array([[1, 3, 5], [2, 4, 6]])\n",
    "W.shape"
   ]
  },
  {
   "cell_type": "code",
   "execution_count": 10,
   "id": "db4ebdaf-1350-466b-95d4-81f773e2356d",
   "metadata": {},
   "outputs": [
    {
     "data": {
      "text/plain": [
       "(3,)"
      ]
     },
     "execution_count": 10,
     "metadata": {},
     "output_type": "execute_result"
    }
   ],
   "source": [
    "Y = np.dot(X, W)\n",
    "Y.shape"
   ]
  },
  {
   "cell_type": "markdown",
   "id": "d43426dc-4b5b-4898-bfb2-6bd9992011fe",
   "metadata": {},
   "source": [
    "# NN with 2 hidden layer\n",
    "![](./nn2.png)\n",
    "![](./nn3.png)\n",
    "![](./nn4.png)\n",
    "![](./nn5.png)"
   ]
  },
  {
   "cell_type": "code",
   "execution_count": 55,
   "id": "aace4838-835f-473f-90c6-97261f36b56b",
   "metadata": {},
   "outputs": [
    {
     "name": "stdout",
     "output_type": "stream",
     "text": [
      "[ 1.20025684 -0.00804805]\n"
     ]
    },
    {
     "data": {
      "text/plain": [
       "(3,)"
      ]
     },
     "execution_count": 55,
     "metadata": {},
     "output_type": "execute_result"
    }
   ],
   "source": [
    "# Input -> Layer 1\n",
    "X = np.random.randn(2); print(X)\n",
    "W1 = np.random.randn(2,3)\n",
    "B1 = np.arange(3)\n",
    "\n",
    "A1 = np.dot(X, W1) + B1\n",
    "A1.shape"
   ]
  },
  {
   "cell_type": "code",
   "execution_count": 51,
   "id": "26c904b0-c998-43dc-b121-a04ed705c67a",
   "metadata": {},
   "outputs": [
    {
     "name": "stdout",
     "output_type": "stream",
     "text": [
      "[[-0.00574629  1.17524472  1.91372552]\n",
      " [ 0.49856343  0.76409171  0.87143711]]\n",
      "(3,)\n"
     ]
    }
   ],
   "source": [
    "def sigmoid(x):\n",
    "    return 1 / (1 + np.exp(-x))\n",
    "\n",
    "Z1 = sigmoid(A1)\n",
    "\n",
    "print(np.vstack((A1, Z1)))\n",
    "print(Z1.shape)"
   ]
  },
  {
   "cell_type": "markdown",
   "id": "1be5a342-e260-4d96-8dce-9d65ad8bd029",
   "metadata": {},
   "source": [
    "![](./nn6.png)"
   ]
  },
  {
   "cell_type": "code",
   "execution_count": 58,
   "id": "ad2cf989-f93f-49d5-b83b-497d65d411d9",
   "metadata": {},
   "outputs": [
    {
     "data": {
      "text/plain": [
       "(2,)"
      ]
     },
     "execution_count": 58,
     "metadata": {},
     "output_type": "execute_result"
    }
   ],
   "source": [
    "# Layer 1 -> Layer 2\n",
    "W2 = np.random.randn(3, 2)\n",
    "B2 = np.random.randn(2)\n",
    "A2 = np.dot(Z1, W2) + B2\n",
    "Z2 = sigmoid(A2)\n",
    "Z2.shape"
   ]
  },
  {
   "cell_type": "markdown",
   "id": "76c09328-f68c-48d0-b2b2-8fa3badfa94d",
   "metadata": {},
   "source": [
    "![](./nn7.png)"
   ]
  },
  {
   "cell_type": "code",
   "execution_count": 64,
   "id": "6b69454e-2e04-463a-9596-ea0edd129b13",
   "metadata": {},
   "outputs": [
    {
     "data": {
      "text/plain": [
       "(2,)"
      ]
     },
     "execution_count": 64,
     "metadata": {},
     "output_type": "execute_result"
    }
   ],
   "source": [
    "# Layer 2 -> Output\n",
    "\n",
    "W3 = np.random.randn(2,2)\n",
    "B3 = np.random.randn(2)\n",
    "A3 = np.dot(Z2, W3) + B3\n",
    "Y = np.identity(2) @ A3\n",
    "Y.shape"
   ]
  },
  {
   "cell_type": "markdown",
   "id": "cc59d281-0aaa-4f83-a1aa-3a710a579f37",
   "metadata": {},
   "source": [
    "# To summarize"
   ]
  },
  {
   "cell_type": "code",
   "execution_count": 69,
   "id": "62106c15-d05e-4729-978d-a61b6514dd3c",
   "metadata": {},
   "outputs": [
    {
     "data": {
      "text/plain": [
       "array([0.89384491, 0.34410442])"
      ]
     },
     "execution_count": 69,
     "metadata": {},
     "output_type": "execute_result"
    }
   ],
   "source": [
    "def sigmoid(x):\n",
    "    return 1 / (1 + np.exp(-x))\n",
    "\n",
    "\n",
    "def init_network():\n",
    "    network = {}\n",
    "\n",
    "    network['W1'] = np.random.randn(2,3)\n",
    "    network['b1'] = np.random.randn(3)\n",
    "    network['W2'] = np.random.randn(3, 2)\n",
    "    network['b2'] = np.random.randn(2)\n",
    "    network['W3'] = np.random.randn(2,2)\n",
    "    network['b3'] = np.random.randn(2)\n",
    "\n",
    "    return network\n",
    "\n",
    "\n",
    "def forward(network, x):\n",
    "    W1, W2, W3 = network['W1'], network['W2'], network['W3']\n",
    "    b1, b2, b3 = network['b1'], network['b2'], network['b3']\n",
    "    \n",
    "    a1 = np.dot(x, W1) + b1\n",
    "    z1 = sigmoid(a1)\n",
    "    a2 = np.dot(z1, W2) + b2\n",
    "    z2 = sigmoid(a2)\n",
    "    a3 = np.dot(z2, W3) + b3\n",
    "    y = np.identity(2) @ a3    \n",
    "\n",
    "    return y\n",
    "\n",
    "\n",
    "net = init_network()\n",
    "x = np.random.randn(2)\n",
    "\n",
    "y = forward(net, x)\n",
    "y"
   ]
  }
 ],
 "metadata": {
  "kernelspec": {
   "display_name": "Python 3 (ipykernel)",
   "language": "python",
   "name": "python3"
  },
  "language_info": {
   "codemirror_mode": {
    "name": "ipython",
    "version": 3
   },
   "file_extension": ".py",
   "mimetype": "text/x-python",
   "name": "python",
   "nbconvert_exporter": "python",
   "pygments_lexer": "ipython3",
   "version": "3.8.8"
  }
 },
 "nbformat": 4,
 "nbformat_minor": 5
}
