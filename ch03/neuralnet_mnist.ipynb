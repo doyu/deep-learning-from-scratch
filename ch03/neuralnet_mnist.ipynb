{
 "cells": [
  {
   "cell_type": "code",
   "execution_count": 1,
   "id": "a21af5e1-e593-431f-a3ae-3a85ce979ebe",
   "metadata": {},
   "outputs": [],
   "source": [
    "# coding: utf-8\n",
    "import sys, os\n",
    "sys.path.append(os.pardir)  # 親ディレクトリのファイルをインポートするための設定\n",
    "import numpy as np\n",
    "import pickle\n",
    "from dataset.mnist import load_mnist\n",
    "from common.functions import sigmoid, softmax"
   ]
  },
  {
   "cell_type": "code",
   "execution_count": 5,
   "id": "995f1b1d-e647-466f-ad05-cb7883cd5261",
   "metadata": {},
   "outputs": [],
   "source": [
    "def get_data():\n",
    "    (x_train, t_train), (x_test, t_test) = load_mnist(normalize=True, flatten=True, one_hot_label=False)\n",
    "    return x_test, t_test\n",
    "\n",
    "\n",
    "def init_network():\n",
    "    with open(\"sample_weight.pkl\", 'rb') as f:\n",
    "        network = pickle.load(f)\n",
    "    return network\n",
    "\n",
    "\n",
    "def predict(network, x):\n",
    "    W1, W2, W3 = network['W1'], network['W2'], network['W3']\n",
    "    b1, b2, b3 = network['b1'], network['b2'], network['b3']\n",
    "\n",
    "    a1 = np.dot(x, W1) + b1\n",
    "    z1 = sigmoid(a1)\n",
    "    a2 = np.dot(z1, W2) + b2\n",
    "    z2 = sigmoid(a2)\n",
    "    a3 = np.dot(z2, W3) + b3\n",
    "    y = softmax(a3)\n",
    "\n",
    "    return y"
   ]
  },
  {
   "cell_type": "code",
   "execution_count": 11,
   "id": "8cec5dea-9418-4390-9a41-1113f0ebe9ae",
   "metadata": {},
   "outputs": [
    {
     "name": "stdout",
     "output_type": "stream",
     "text": [
      "(10000, 784) (10000,)\n"
     ]
    }
   ],
   "source": [
    "x, t = get_data()\n",
    "print(x.shape, t.shape)"
   ]
  },
  {
   "cell_type": "code",
   "execution_count": 29,
   "id": "a1d23277-eee3-4c33-83ec-cb66af0d2537",
   "metadata": {},
   "outputs": [
    {
     "name": "stdout",
     "output_type": "stream",
     "text": [
      "dict_keys(['b2', 'W1', 'b1', 'W2', 'W3', 'b3'])\n",
      "b2 (100,)\n",
      "W1 (784, 50)\n",
      "b1 (50,)\n",
      "W2 (50, 100)\n",
      "W3 (100, 10)\n",
      "b3 (10,)\n"
     ]
    }
   ],
   "source": [
    "network = init_network()\n",
    "print(network.keys())\n",
    "for k in network:\n",
    "    print(k, (network[k]).shape)"
   ]
  },
  {
   "cell_type": "markdown",
   "id": "07f3a97e-6e23-46fd-b90a-2fa7ff1b150d",
   "metadata": {},
   "source": [
    "![](./nn8.png)"
   ]
  },
  {
   "cell_type": "code",
   "execution_count": 14,
   "id": "83f5181b-1951-4999-a8d8-31238a1bf40c",
   "metadata": {},
   "outputs": [
    {
     "name": "stdout",
     "output_type": "stream",
     "text": [
      "Accuracy:0.9352\n"
     ]
    }
   ],
   "source": [
    "accuracy_cnt = 0\n",
    "for i in range(len(x)):\n",
    "    y = predict(network, x[i])\n",
    "    p= np.argmax(y) # 最も確率の高い要素のインデックスを取得\n",
    "    if p == t[i]:\n",
    "        accuracy_cnt += 1\n",
    "\n",
    "print(\"Accuracy:\" + str(float(accuracy_cnt) / len(x)))"
   ]
  },
  {
   "cell_type": "markdown",
   "id": "a225fdb1-b11a-4944-b8c7-719b12506336",
   "metadata": {},
   "source": [
    "#### Alternatively calculate at once as below"
   ]
  },
  {
   "cell_type": "code",
   "execution_count": 25,
   "id": "acc26791-6f2a-4fcd-b756-c2e43572dfdc",
   "metadata": {},
   "outputs": [],
   "source": [
    "y = predict(network, x)\n",
    "yy = y.argmax(axis=1)\n",
    "\n",
    "print(yy.shape)\n",
    "\n",
    "(yy == t).sum() / len(yy) # accuracy %"
   ]
  }
 ],
 "metadata": {
  "kernelspec": {
   "display_name": "Python 3 (ipykernel)",
   "language": "python",
   "name": "python3"
  },
  "language_info": {
   "codemirror_mode": {
    "name": "ipython",
    "version": 3
   },
   "file_extension": ".py",
   "mimetype": "text/x-python",
   "name": "python",
   "nbconvert_exporter": "python",
   "pygments_lexer": "ipython3",
   "version": "3.8.8"
  }
 },
 "nbformat": 4,
 "nbformat_minor": 5
}
