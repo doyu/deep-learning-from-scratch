{
 "cells": [
  {
   "cell_type": "code",
   "execution_count": null,
   "id": "cb66dcf4",
   "metadata": {},
   "outputs": [],
   "source": [
    "print(\"I'm hungry!\")"
   ]
  }
 ],
 "metadata": {},
 "nbformat": 4,
 "nbformat_minor": 5
}
