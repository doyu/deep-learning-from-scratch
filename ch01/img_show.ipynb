{
 "cells": [
  {
   "cell_type": "code",
   "execution_count": null,
   "id": "7d9211cd",
   "metadata": {},
   "outputs": [],
   "source": [
    "# coding: utf-8\n",
    "import matplotlib.pyplot as plt\n",
    "from matplotlib.image import imread\n",
    "\n",
    "img = imread('../dataset/lena.png') # 画像の読み込み\n",
    "plt.imshow(img)\n",
    "\n",
    "plt.show()"
   ]
  }
 ],
 "metadata": {},
 "nbformat": 4,
 "nbformat_minor": 5
}
